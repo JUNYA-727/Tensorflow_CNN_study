{
  "nbformat": 4,
  "nbformat_minor": 0,
  "metadata": {
    "colab": {
      "name": "tensorflow4.ipynb のコピー",
      "provenance": [],
      "collapsed_sections": [],
      "machine_shape": "hm",
      "authorship_tag": "ABX9TyOTy0NR33gBd7DBptUnPSdq",
      "include_colab_link": true
    },
    "kernelspec": {
      "name": "python3",
      "display_name": "Python 3"
    },
    "language_info": {
      "name": "python"
    },
    "accelerator": "GPU"
  },
  "cells": [
    {
      "cell_type": "markdown",
      "metadata": {
        "id": "view-in-github",
        "colab_type": "text"
      },
      "source": [
        "<a href=\"https://colab.research.google.com/github/JUNYA-727/Tensorflow_CNN_study/blob/main/tensorflow4.ipynb\" target=\"_parent\"><img src=\"https://colab.research.google.com/assets/colab-badge.svg\" alt=\"Open In Colab\"/></a>"
      ]
    },
    {
      "cell_type": "code",
      "metadata": {
        "id": "RRXzZKgj9Ail"
      },
      "source": [
        "import csv\n",
        "import numpy as np\n",
        "import tensorflow as tf\n",
        "from tensorflow.keras.preprocessing.image import ImageDataGenerator\n",
        "from google.colab import files"
      ],
      "execution_count": null,
      "outputs": []
    },
    {
      "cell_type": "code",
      "metadata": {
        "id": "1aHO5hHV-EjL"
      },
      "source": [
        "!gdown --id 1z0DkA9BytlLxO1C0BAWzknLyQmZAp0HR\n",
        "!gdown --id 1z1BIj4qmri59GWBG4ivMNFtpZ4AXIbzg"
      ],
      "execution_count": null,
      "outputs": []
    },
    {
      "cell_type": "code",
      "metadata": {
        "id": "mgTUvHPWAWWV"
      },
      "source": [
        "with open('/content/sign_mnist_test.csv') as filename:\n",
        "  csv_reader=csv.reader(filename,delimiter=',')\n",
        "  first_line=True\n",
        "  for i in csv_reader:\n",
        "    print(i)"
      ],
      "execution_count": null,
      "outputs": []
    },
    {
      "cell_type": "code",
      "metadata": {
        "colab": {
          "base_uri": "https://localhost:8080/"
        },
        "id": "75_5QD-K9iuS",
        "outputId": "5d966d19-0a50-47dd-80ec-45278b6299d1"
      },
      "source": [
        "def get_data(filename):\n",
        "  with open(filename) as training_file:\n",
        "      ### START CODE HERE\n",
        "      csv_reader = csv.reader(training_file, delimiter=',')\n",
        "      first_line=True\n",
        "      temp_images=[]\n",
        "      temp_labels=[]\n",
        "\n",
        "      for i in csv_reader:\n",
        "        if first_line:\n",
        "          first_line=False\n",
        "        else:\n",
        "          temp_labels.append(i[0])\n",
        "          image_data=i[1:785]\n",
        "          #28*28=784\n",
        "          image_data_as_array=np.array_split(image_data,28)\n",
        "          temp_images.append(image_data_as_array)\n",
        "  images=np.array(temp_images).astype('float')\n",
        "  labels=np.array(temp_labels).astype('float')\n",
        "  return images,labels\n",
        "\n",
        "\n",
        "\n",
        "training_images, training_labels = get_data('./sign_mnist_train.csv')\n",
        "testing_images, testing_labels = get_data('./sign_mnist_test.csv')\n",
        "\n",
        "print(training_labels.shape)\n",
        "print(testing_images.shape)\n",
        "print(testing_labels.shape)"
      ],
      "execution_count": null,
      "outputs": [
        {
          "output_type": "stream",
          "name": "stdout",
          "text": [
            "(27455, 28, 28)\n",
            "(27455,)\n",
            "(7172, 28, 28)\n",
            "(7172,)\n"
          ]
        }
      ]
    },
    {
      "cell_type": "code",
      "metadata": {
        "id": "Q5ORwKxpPGOd"
      },
      "source": [
        "print(training_images[1])\n",
        "training_images=np.expand_dims(training_images,axis=3)\n",
        "print(training_images[1])\n",
        "\n",
        "testing_images=np.expand_dims(testing_images,axis=3)\n",
        "train_datagen = ImageDataGenerator(\n",
        "    rescale=1/255,\n",
        "    rotation_range=40,\n",
        "    width_shift_range=0.2,\n",
        "    height_shift_range=0.2,\n",
        "    shear_range=0.2,\n",
        "    zoom_range=0.2,\n",
        "    horizontal_flip=True,\n",
        "    fill_mode='nearest'\n",
        "    )\n",
        "\n",
        "validation_datagen = ImageDataGenerator(\n",
        "    rescale=1/255\n",
        "    )\n",
        "\n",
        "\n",
        "print(training_images.shape)\n",
        "print(testing_images.shape)\n",
        "print(len(training_images))"
      ],
      "execution_count": null,
      "outputs": []
    },
    {
      "cell_type": "code",
      "metadata": {
        "colab": {
          "base_uri": "https://localhost:8080/",
          "height": 265
        },
        "id": "fUlTJoCkUFIP",
        "outputId": "96857c9d-89d7-4772-a107-04d863a55d38"
      },
      "source": [
        "import matplotlib.pyplot as plt\n",
        "img=training_images[1]\n",
        "#training_images→(27455,28,28,1)27455枚で28*28でグレー\n",
        "plt.imshow(img.reshape(28,28))\n",
        "plt.show()"
      ],
      "execution_count": null,
      "outputs": [
        {
          "output_type": "display_data",
          "data": {
            "image/png": "[encoded data removed]",
            "text/plain": [
              "<Figure size 432x288 with 1 Axes>"
            ]
          },
          "metadata": {
            "needs_background": "light"
          }
        }
      ]
    },
    {
      "cell_type": "code",
      "metadata": {
        "colab": {
          "base_uri": "https://localhost:8080/"
        },
        "id": "4LckE3FLSK8u",
        "outputId": "768e6985-e7b9-4b59-c801-2b7b4a205db5"
      },
      "source": [
        "model = tf.keras.models.Sequential([                              \n",
        "    tf.keras.layers.Conv2D(64, (3, 3), activation='relu', input_shape=(28, 28, 1)),\n",
        "    tf.keras.layers.MaxPooling2D(2, 2),\n",
        "    tf.keras.layers.Conv2D(64, (3, 3), activation='relu'),\n",
        "    tf.keras.layers.MaxPooling2D(2, 2),\n",
        "    tf.keras.layers.Flatten(),\n",
        "    tf.keras.layers.Dense(128, activation=tf.nn.relu),\n",
        "    #26のクラスに分類分け\n",
        "    tf.keras.layers.Dense(26, activation=tf.nn.softmax)]\n",
        "    )\n",
        "model.compile(optimizer = tf.optimizers.Adam(),\n",
        "              loss = 'sparse_categorical_crossentropy',\n",
        "              metrics=['accuracy'])\n",
        "\n",
        "history = model.fit(train_datagen.flow(training_images, training_labels,batch_size=32),\n",
        "                    steps_per_epoch=len(training_images)/32,\n",
        "                    epochs=15,\n",
        "                    validation_data=validation_datagen.flow(testing_images,testing_labels,batch_size=32),\n",
        "                    validation_steps=len(testing_images)/32)\n",
        "model.evaluate(testing_images, testing_labels)"
      ],
      "execution_count": null,
      "outputs": [
        {
          "output_type": "stream",
          "name": "stdout",
          "text": [
            "Epoch 1/15\n",
            "857/857 [==============================] - 9s 10ms/step - loss: 2.8378 - accuracy: 0.1409 - val_loss: 2.3286 - val_accuracy: 0.2366\n",
            "Epoch 2/15\n",
            "857/857 [==============================] - 9s 10ms/step - loss: 2.2100 - accuracy: 0.3038 - val_loss: 1.6337 - val_accuracy: 0.4866\n",
            "Epoch 3/15\n",
            "857/857 [==============================] - 9s 10ms/step - loss: 1.8896 - accuracy: 0.3983 - val_loss: 1.4570 - val_accuracy: 0.4898\n",
            "Epoch 4/15\n",
            "857/857 [==============================] - 9s 10ms/step - loss: 1.6644 - accuracy: 0.4599 - val_loss: 1.2540 - val_accuracy: 0.5623\n",
            "Epoch 5/15\n",
            "857/857 [==============================] - 9s 10ms/step - loss: 1.4966 - accuracy: 0.5111 - val_loss: 1.0395 - val_accuracy: 0.6233\n",
            "Epoch 6/15\n",
            "857/857 [==============================] - 9s 10ms/step - loss: 1.3728 - accuracy: 0.5494 - val_loss: 0.8279 - val_accuracy: 0.6871\n",
            "Epoch 7/15\n",
            "857/857 [==============================] - 9s 10ms/step - loss: 1.2813 - accuracy: 0.5810 - val_loss: 0.7782 - val_accuracy: 0.7133\n",
            "Epoch 8/15\n",
            "857/857 [==============================] - 9s 10ms/step - loss: 1.1767 - accuracy: 0.6125 - val_loss: 0.7473 - val_accuracy: 0.7185\n",
            "Epoch 9/15\n",
            "857/857 [==============================] - 9s 10ms/step - loss: 1.1239 - accuracy: 0.6263 - val_loss: 0.8746 - val_accuracy: 0.7020\n",
            "Epoch 10/15\n",
            "857/857 [==============================] - 9s 10ms/step - loss: 1.0579 - accuracy: 0.6486 - val_loss: 0.7350 - val_accuracy: 0.7282\n",
            "Epoch 11/15\n",
            "857/857 [==============================] - 9s 10ms/step - loss: 1.0217 - accuracy: 0.6597 - val_loss: 0.5737 - val_accuracy: 0.7805\n",
            "Epoch 12/15\n",
            "857/857 [==============================] - 9s 10ms/step - loss: 0.9716 - accuracy: 0.6729 - val_loss: 0.6336 - val_accuracy: 0.7660\n",
            "Epoch 13/15\n",
            "857/857 [==============================] - 9s 10ms/step - loss: 0.9416 - accuracy: 0.6825 - val_loss: 0.6044 - val_accuracy: 0.7819\n",
            "Epoch 14/15\n",
            "857/857 [==============================] - 9s 10ms/step - loss: 0.8911 - accuracy: 0.7008 - val_loss: 0.5304 - val_accuracy: 0.8123\n",
            "Epoch 15/15\n",
            "857/857 [==============================] - 9s 10ms/step - loss: 0.8578 - accuracy: 0.7107 - val_loss: 0.5583 - val_accuracy: 0.7935\n",
            "225/225 [==============================] - 1s 2ms/step - loss: 309.3314 - accuracy: 0.5085\n"
          ]
        },
        {
          "output_type": "execute_result",
          "data": {
            "text/plain": [
              "[309.3313903808594, 0.5085052847862244]"
            ]
          },
          "metadata": {},
          "execution_count": 42
        }
      ]
    },
    {
      "cell_type": "code",
      "metadata": {
        "colab": {
          "base_uri": "https://localhost:8080/",
          "height": 545
        },
        "id": "W0M5YA7KVmfM",
        "outputId": "c1fa7031-2129-425f-87f6-ceaf18d93389"
      },
      "source": [
        "import matplotlib.pyplot as plt\n",
        "acc =history.history['accuracy']\n",
        "val_acc = history.history['val_accuracy']\n",
        "loss = history.history['loss']\n",
        "val_loss = history.history['val_loss']\n",
        "\n",
        "epochs = range(len(acc))\n",
        "\n",
        "plt.plot(epochs, acc, 'r', label='Training accuracy')\n",
        "plt.plot(epochs, val_acc, 'b', label='Validation accuracy')\n",
        "plt.title('Training and validation accuracy')\n",
        "plt.legend()\n",
        "plt.figure()\n",
        "\n",
        "plt.plot(epochs, loss, 'r', label='Training Loss')\n",
        "plt.plot(epochs, val_loss, 'b', label='Validation Loss')\n",
        "plt.title('Training and validation loss')\n",
        "plt.legend()\n",
        "\n",
        "plt.show()"
      ],
      "execution_count": null,
      "outputs": [
        {
          "output_type": "display_data",
          "data": {
            "image/png": "[encoded data removed]",
            "text/plain": [
              "<Figure size 432x288 with 1 Axes>"
            ]
          },
          "metadata": {
            "needs_background": "light"
          }
        },
        {
          "output_type": "display_data",
          "data": {
            "image/png": "[encoded data removed]",
            "text/plain": [
              "<Figure size 432x288 with 1 Axes>"
            ]
          },
          "metadata": {
            "needs_background": "light"
          }
        }
      ]
    }
  ]
}